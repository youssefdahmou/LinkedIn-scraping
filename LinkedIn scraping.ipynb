{
 "cells": [
  {
   "cell_type": "code",
   "execution_count": 6,
   "id": "34d4ef0d",
   "metadata": {},
   "outputs": [],
   "source": [
    "from  selenium  import webdriver \n",
    "import requests \n",
    "from bs4 import BeautifulSoup as bs \n",
    "from selenium.webdriver.common.keys import Keys\n",
    "from selenium.webdriver.common.action_chains import ActionChains\n",
    "import time\n",
    "import pandas as pd "
   ]
  },
  {
   "cell_type": "code",
   "execution_count": 7,
   "id": "1ef1ba00",
   "metadata": {},
   "outputs": [],
   "source": [
    "#the driver path in local machine \n",
    "path = 'C:\\Program Files (x86)\\msedgedriver.exe'\n",
    "driver = webdriver.Edge(executable_path=path)"
   ]
  },
  {
   "cell_type": "code",
   "execution_count": 8,
   "id": "20bbd7c8",
   "metadata": {},
   "outputs": [],
   "source": [
    "URL = 'https://www.linkedin.com/jobs/search/?currentJobId=3129956217'\n",
    "driver.get(URL)\n",
    "time.sleep(10)"
   ]
  },
  {
   "cell_type": "markdown",
   "id": "b05038eb",
   "metadata": {},
   "source": [
    "# specify the domain and country ."
   ]
  },
  {
   "cell_type": "code",
   "execution_count": 23,
   "id": "c840d01c",
   "metadata": {},
   "outputs": [],
   "source": [
    "domain = 'Science Des Données'\n",
    "country = 'Canada'"
   ]
  },
  {
   "cell_type": "code",
   "execution_count": 12,
   "id": "21aa7278",
   "metadata": {},
   "outputs": [],
   "source": [
    "domain_section  = driver.find_element_by_name(\"keywords\" )\n",
    "domain_section.click()\n",
    "domain_section.clear()                   \n",
    "domain_section.send_keys(domain)\n",
    "\n",
    "time.sleep(2)\n",
    "country_section = driver.find_element_by_name(\"location\")\n",
    "country_section.click()\n",
    "country_section.clear()\n",
    "country_section.send_keys(country)\n",
    "\n",
    "\n",
    "time.sleep(2)\n",
    "country_section.send_keys(Keys.RETURN)\n",
    "time.sleep(20)"
   ]
  },
  {
   "cell_type": "markdown",
   "id": "947739df",
   "metadata": {},
   "source": [
    "# scroll to the bottom of the page"
   ]
  },
  {
   "cell_type": "code",
   "execution_count": 13,
   "id": "30b16fb8",
   "metadata": {},
   "outputs": [
    {
     "data": {
      "text/plain": [
       "'fin '"
      ]
     },
     "execution_count": 13,
     "metadata": {},
     "output_type": "execute_result"
    }
   ],
   "source": [
    "def scroll_to_the_bottom_of_the_page():\n",
    "    # Get scroll height\n",
    "    last_height = driver.execute_script(\"return document.body.scrollHeight\")\n",
    "\n",
    "    while True:\n",
    "        # Scroll down to bottom\n",
    "        time.sleep(5)\n",
    "        driver.execute_script(\"window.scrollTo(0, document.body.scrollHeight);\")\n",
    "\n",
    "        # Wait to load page\n",
    "        time.sleep(0.5)\n",
    "\n",
    "        # Calculate new scroll height and compare with last scroll height\n",
    "        new_height = driver.execute_script(\"return document.body.scrollHeight\")\n",
    "        if new_height == last_height:\n",
    "            break\n",
    "        last_height = new_height\n",
    "    return 'fin '\n",
    "scroll_to_the_bottom_of_the_page()"
   ]
  },
  {
   "cell_type": "code",
   "execution_count": 14,
   "id": "40f65bd7",
   "metadata": {},
   "outputs": [],
   "source": [
    "# Get scroll height\n",
    "last_height = driver.execute_script(\"return document.body.scrollHeight\")\n",
    "a=0\n",
    "def go_down(last_height , a ):\n",
    "    height =driver.execute_script(\"return document.body.scrollHeight\")\n",
    "\n",
    "    if last_height==height :\n",
    "        a+=1\n",
    "    if a<  5 :  #stop condition \n",
    "        try :\n",
    "            driver.find_element_by_xpath(\"/html/body/div[1]/div/main/section/button\").click()\n",
    "            time.sleep(5)                 \n",
    "            go_down(height,a)\n",
    "        except :\n",
    "            return 'fin'\n",
    "    else : return 'fin'\n",
    "go_down(last_height-1,a)"
   ]
  },
  {
   "cell_type": "markdown",
   "id": "90f53a4d",
   "metadata": {},
   "source": [
    "# scrap the data from the web page "
   ]
  },
  {
   "cell_type": "code",
   "execution_count": 24,
   "id": "ede4aa13",
   "metadata": {},
   "outputs": [],
   "source": [
    "data = []\n",
    "jobs_offer = driver.find_elements_by_class_name(\"base-search-card__info\")\n",
    "for  job in jobs_offer :\n",
    "    job_title = job.find_element_by_tag_name(\"h3\").text\n",
    "    company_name = job.find_element_by_tag_name(\"h4\").text\n",
    "    data.append([job_title,company_name,domain,country])\n"
   ]
  },
  {
   "cell_type": "code",
   "execution_count": 25,
   "id": "7b26df3c",
   "metadata": {},
   "outputs": [
    {
     "data": {
      "text/html": [
       "<div>\n",
       "<style scoped>\n",
       "    .dataframe tbody tr th:only-of-type {\n",
       "        vertical-align: middle;\n",
       "    }\n",
       "\n",
       "    .dataframe tbody tr th {\n",
       "        vertical-align: top;\n",
       "    }\n",
       "\n",
       "    .dataframe thead th {\n",
       "        text-align: right;\n",
       "    }\n",
       "</style>\n",
       "<table border=\"1\" class=\"dataframe\">\n",
       "  <thead>\n",
       "    <tr style=\"text-align: right;\">\n",
       "      <th></th>\n",
       "      <th>entreprise_name</th>\n",
       "      <th>job_title</th>\n",
       "      <th>domain</th>\n",
       "      <th>country</th>\n",
       "    </tr>\n",
       "  </thead>\n",
       "  <tbody>\n",
       "    <tr>\n",
       "      <th>0</th>\n",
       "      <td>Conseiller(ère) affaires, stratégie et science...</td>\n",
       "      <td>CRIM</td>\n",
       "      <td>Science Des Données</td>\n",
       "      <td>Canada</td>\n",
       "    </tr>\n",
       "    <tr>\n",
       "      <th>1</th>\n",
       "      <td>Bioinformaticien/ Bioinformatician</td>\n",
       "      <td>CellCarta</td>\n",
       "      <td>Science Des Données</td>\n",
       "      <td>Canada</td>\n",
       "    </tr>\n",
       "    <tr>\n",
       "      <th>2</th>\n",
       "      <td>Scientifique de donnees</td>\n",
       "      <td>MindGeek</td>\n",
       "      <td>Science Des Données</td>\n",
       "      <td>Canada</td>\n",
       "    </tr>\n",
       "    <tr>\n",
       "      <th>3</th>\n",
       "      <td>Scientifique en intelligence artificielle</td>\n",
       "      <td>Nuvoola AI</td>\n",
       "      <td>Science Des Données</td>\n",
       "      <td>Canada</td>\n",
       "    </tr>\n",
       "    <tr>\n",
       "      <th>4</th>\n",
       "      <td>Data Scientist</td>\n",
       "      <td>CGI</td>\n",
       "      <td>Science Des Données</td>\n",
       "      <td>Canada</td>\n",
       "    </tr>\n",
       "    <tr>\n",
       "      <th>...</th>\n",
       "      <td>...</td>\n",
       "      <td>...</td>\n",
       "      <td>...</td>\n",
       "      <td>...</td>\n",
       "    </tr>\n",
       "    <tr>\n",
       "      <th>995</th>\n",
       "      <td>Consultant Microsoft D365 F&amp;O Finance</td>\n",
       "      <td>Alithya</td>\n",
       "      <td>Science Des Données</td>\n",
       "      <td>Canada</td>\n",
       "    </tr>\n",
       "    <tr>\n",
       "      <th>996</th>\n",
       "      <td>Conseiller Principal, Ingénierie Prévente</td>\n",
       "      <td>Bell</td>\n",
       "      <td>Science Des Données</td>\n",
       "      <td>Canada</td>\n",
       "    </tr>\n",
       "    <tr>\n",
       "      <th>997</th>\n",
       "      <td>Conseiller en conception d'expérience et de se...</td>\n",
       "      <td>IBM</td>\n",
       "      <td>Science Des Données</td>\n",
       "      <td>Canada</td>\n",
       "    </tr>\n",
       "    <tr>\n",
       "      <th>998</th>\n",
       "      <td>Conseiller en conception d'expérience et de se...</td>\n",
       "      <td>IBM</td>\n",
       "      <td>Science Des Données</td>\n",
       "      <td>Canada</td>\n",
       "    </tr>\n",
       "    <tr>\n",
       "      <th>999</th>\n",
       "      <td>Directeur régional ou directrice régionale Env...</td>\n",
       "      <td>CN</td>\n",
       "      <td>Science Des Données</td>\n",
       "      <td>Canada</td>\n",
       "    </tr>\n",
       "  </tbody>\n",
       "</table>\n",
       "<p>1000 rows × 4 columns</p>\n",
       "</div>"
      ],
      "text/plain": [
       "                                       entreprise_name   job_title  \\\n",
       "0    Conseiller(ère) affaires, stratégie et science...        CRIM   \n",
       "1                   Bioinformaticien/ Bioinformatician   CellCarta   \n",
       "2                              Scientifique de donnees    MindGeek   \n",
       "3            Scientifique en intelligence artificielle  Nuvoola AI   \n",
       "4                                       Data Scientist         CGI   \n",
       "..                                                 ...         ...   \n",
       "995              Consultant Microsoft D365 F&O Finance     Alithya   \n",
       "996          Conseiller Principal, Ingénierie Prévente        Bell   \n",
       "997  Conseiller en conception d'expérience et de se...         IBM   \n",
       "998  Conseiller en conception d'expérience et de se...         IBM   \n",
       "999  Directeur régional ou directrice régionale Env...          CN   \n",
       "\n",
       "                  domain country  \n",
       "0    Science Des Données  Canada  \n",
       "1    Science Des Données  Canada  \n",
       "2    Science Des Données  Canada  \n",
       "3    Science Des Données  Canada  \n",
       "4    Science Des Données  Canada  \n",
       "..                   ...     ...  \n",
       "995  Science Des Données  Canada  \n",
       "996  Science Des Données  Canada  \n",
       "997  Science Des Données  Canada  \n",
       "998  Science Des Données  Canada  \n",
       "999  Science Des Données  Canada  \n",
       "\n",
       "[1000 rows x 4 columns]"
      ]
     },
     "execution_count": 25,
     "metadata": {},
     "output_type": "execute_result"
    }
   ],
   "source": [
    "data = pd.DataFrame(data ,columns =['entreprise_name','job_title','domain','country'])\n",
    "data"
   ]
  },
  {
   "cell_type": "markdown",
   "id": "bd1d60ea",
   "metadata": {},
   "source": [
    "# save data "
   ]
  },
  {
   "cell_type": "code",
   "execution_count": 26,
   "id": "f4fc32b2",
   "metadata": {},
   "outputs": [],
   "source": [
    "data.to_csv('our_data.csv', index = False)"
   ]
  },
  {
   "cell_type": "code",
   "execution_count": 27,
   "id": "7edeb689",
   "metadata": {},
   "outputs": [],
   "source": [
    "driver.close()"
   ]
  },
  {
   "cell_type": "code",
   "execution_count": null,
   "id": "0b29a39e",
   "metadata": {},
   "outputs": [],
   "source": []
  }
 ],
 "metadata": {
  "kernelspec": {
   "display_name": "Python 3 (ipykernel)",
   "language": "python",
   "name": "python3"
  },
  "language_info": {
   "codemirror_mode": {
    "name": "ipython",
    "version": 3
   },
   "file_extension": ".py",
   "mimetype": "text/x-python",
   "name": "python",
   "nbconvert_exporter": "python",
   "pygments_lexer": "ipython3",
   "version": "3.9.12"
  }
 },
 "nbformat": 4,
 "nbformat_minor": 5
}
